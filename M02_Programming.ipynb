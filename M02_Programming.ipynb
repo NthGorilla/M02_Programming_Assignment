{
 "cells": [
  {
   "cell_type": "code",
   "execution_count": 16,
   "id": "957bc6cf-ee83-46bc-9863-cdacd6c24355",
   "metadata": {},
   "outputs": [
    {
     "name": "stdout",
     "output_type": "stream",
     "text": [
      "too high.\n"
     ]
    }
   ],
   "source": [
    "#4.1\n",
    "\n",
    "secret = 7\n",
    "guess = 9\n",
    "if guess < secret:\n",
    "    print(\"too low.\")\n",
    "elif guess > secret:\n",
    "    print(\"too high.\")\n",
    "else:\n",
    "    print(\"just right.\")\n"
   ]
  },
  {
   "cell_type": "code",
   "execution_count": 24,
   "id": "b22f533f-6a36-47ba-86c8-baf21f3ecb4e",
   "metadata": {},
   "outputs": [
    {
     "name": "stdout",
     "output_type": "stream",
     "text": [
      "It's a watermelon.\n"
     ]
    }
   ],
   "source": [
    "#4.2\n",
    "\n",
    "small = False\n",
    "green = True\n",
    "if small:\n",
    "    if green:\n",
    "        print(\"It's a pea.\")\n",
    "    else:\n",
    "        print(\"It's a cherry.\")\n",
    "else:\n",
    "    if green:\n",
    "        print(\"It's a watermelon.\")\n",
    "    else:\n",
    "        print(\"It's a pumpkin.\")\n",
    "        "
   ]
  },
  {
   "cell_type": "code",
   "execution_count": 28,
   "id": "866da048-b175-4907-beee-2581de12fcf3",
   "metadata": {},
   "outputs": [
    {
     "data": {
      "text/plain": [
       "[3, 2, 1, 0]"
      ]
     },
     "execution_count": 28,
     "metadata": {},
     "output_type": "execute_result"
    }
   ],
   "source": [
    "#6.1 \n",
    "\n",
    "list( range(3,-1,-1))\n"
   ]
  },
  {
   "cell_type": "code",
   "execution_count": 30,
   "id": "94145cc2-f5f8-4741-a8ae-638ea3a78175",
   "metadata": {},
   "outputs": [
    {
     "name": "stdout",
     "output_type": "stream",
     "text": [
      "too low.\n",
      "too low.\n",
      "too low.\n",
      "too low.\n",
      "too low.\n",
      "too low.\n",
      "found it!\n"
     ]
    }
   ],
   "source": [
    "#6.2 \n",
    "\n",
    "guess_me = 7\n",
    "number = 1\n",
    "while True:\n",
    "    if number < guess_me:\n",
    "        print(\"too low.\")\n",
    "    elif number == guess_me:\n",
    "        print(\"found it!\")\n",
    "        break\n",
    "    else:\n",
    "        print(\"oops.\")\n",
    "        break\n",
    "    number +=1\n"
   ]
  },
  {
   "cell_type": "code",
   "execution_count": null,
   "id": "89cfdb7a-2c4f-434f-9527-7bbcb4ed6c2c",
   "metadata": {},
   "outputs": [],
   "source": [
    "#6.3 \n",
    "\n",
    "guess_me = 5\n",
    "for number in range(10):\n",
    "    if number < guess_me:\n",
    "        print(\"too low.\")\n",
    "    elif number == guess_me:\n",
    "        "
   ]
  }
 ],
 "metadata": {
  "kernelspec": {
   "display_name": "Python 3 (ipykernel)",
   "language": "python",
   "name": "python3"
  },
  "language_info": {
   "codemirror_mode": {
    "name": "ipython",
    "version": 3
   },
   "file_extension": ".py",
   "mimetype": "text/x-python",
   "name": "python",
   "nbconvert_exporter": "python",
   "pygments_lexer": "ipython3",
   "version": "3.12.7"
  }
 },
 "nbformat": 4,
 "nbformat_minor": 5
}
